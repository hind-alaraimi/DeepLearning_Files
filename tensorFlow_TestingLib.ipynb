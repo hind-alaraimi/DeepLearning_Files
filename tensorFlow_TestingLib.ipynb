{
 "cells": [
  {
   "cell_type": "markdown",
   "id": "86688a1f",
   "metadata": {},
   "source": [
    "run tf in ver: 2.18.1 / 3.9 py"
   ]
  },
  {
   "cell_type": "markdown",
   "id": "5667a75a",
   "metadata": {},
   "source": [
    "tf.config.list_physical_devices : to check device type"
   ]
  },
  {
   "cell_type": "markdown",
   "id": "32db75a1",
   "metadata": {},
   "source": [
    "we can use py function with tf: random.normal AS tf.random.normal()"
   ]
  },
  {
   "cell_type": "markdown",
   "id": "d0e211bd",
   "metadata": {},
   "source": [
    "Making a dense layer:\n",
    "\n",
    "L1 = tf.kares.layers.Dense(10, name='')\n",
    "\n",
    "^ Dense Layer 1 with 10 N\n",
    "\n",
    "Layer output:\n",
    "\n",
    "LO = tf.kares.layers.Dense(1,name=\"\")\n",
    "\n",
    "^ 1 N - Output N!\n",
    "\n",
    "-Exmaple- \n",
    "\n",
    "Model = tf.keras.models.sequantial([Layer_Input,L1,,L2,L3...etc,LO])"
   ]
  },
  {
   "cell_type": "markdown",
   "id": "546294f6",
   "metadata": {},
   "source": [
    "Use_bias = False"
   ]
  },
  {
   "cell_type": "markdown",
   "id": "918d16af",
   "metadata": {},
   "source": [
    "Model summary: this will return table with: <br /> layers type - output shape - param"
   ]
  },
  {
   "cell_type": "markdown",
   "id": "a9e5ce39",
   "metadata": {},
   "source": [
    "tf.model.optimizor -> find set of parameter/ reduce the loss function</br>\n",
    "examples: SGD / Adam </br>\n",
    "others in tensorflow docs"
   ]
  },
  {
   "cell_type": "markdown",
   "id": "75c34a94",
   "metadata": {},
   "source": [
    "Losses : Cost function </br>\n",
    "examples: \n",
    "- Regressin: MSE / MAE\n",
    "- Logistic:"
   ]
  },
  {
   "cell_type": "markdown",
   "id": "3bde1807",
   "metadata": {},
   "source": [
    "Compile -> to find the cost:\n",
    "- Optimizer\n",
    "- loss"
   ]
  },
  {
   "cell_type": "markdown",
   "id": "e002e59c",
   "metadata": {},
   "source": [
    "After compiling the cost: we can fit the data to our model,\n",
    "fit(x,y,epochs)"
   ]
  },
  {
   "cell_type": "markdown",
   "id": "439d432e",
   "metadata": {},
   "source": [
    "epoch: num of iteration within the whole raining dataset </br>\n",
    "Batch: subset of training dataset (amount of data processed before the update of parameters) </br>\n",
    "**batch is done within each epoch**"
   ]
  },
  {
   "cell_type": "markdown",
   "id": "0ca81c7c",
   "metadata": {},
   "source": [
    "Activation Function: introduce non-linearity into neural networks"
   ]
  }
 ],
 "metadata": {
  "kernelspec": {
   "display_name": "my_virtual_env",
   "language": "python",
   "name": "my_virtual_env"
  },
  "language_info": {
   "codemirror_mode": {
    "name": "ipython",
    "version": 3
   },
   "file_extension": ".py",
   "mimetype": "text/x-python",
   "name": "python",
   "nbconvert_exporter": "python",
   "pygments_lexer": "ipython3",
   "version": "3.12.7"
  }
 },
 "nbformat": 4,
 "nbformat_minor": 5
}
